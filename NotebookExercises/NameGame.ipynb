{
 "cells": [
  {
   "cell_type": "markdown",
   "id": "fc5f93b3-88bc-4e02-a7e5-100d6743d44e",
   "metadata": {},
   "source": [
    "## **_The Name Game_**\n",
    "![NameGameAlbum](https://www.songfacts.com/img-artalbums-145-dcd73bc9b45ad126c340bcf4e48f9fd2.png)\n",
    "#### The name game is a song in which at the end of every line, the name gets repeated without the first letter. The coding for consonats and names starting witih b, f, and m have variations with different definitions and if statements defined."
   ]
  },
  {
   "cell_type": "code",
   "execution_count": 3,
   "id": "deb52070-2baf-4c69-856e-3a1d9d6940b2",
   "metadata": {},
   "outputs": [
    {
     "name": "stdin",
     "output_type": "stream",
     "text": [
      "Please provide your name:  Luis\n"
     ]
    },
    {
     "name": "stdout",
     "output_type": "stream",
     "text": [
      "Luis, Luis, bo-buis\n",
      "banana fana fo-fuis\n",
      "me my mo-muis\n",
      "Luis!\n"
     ]
    }
   ],
   "source": [
    "name = input('Please provide your name: ').lower() #to make output of name in lowercase\n",
    "\n",
    "def trunc_name(name2):\n",
    "    vowels = ['a', 'e', 'i', 'o', 'u', 'y']\n",
    "    n = name2[0] #index position of first letter\n",
    "    n1 = name2[1] #index position of 2nd letter\n",
    "    if n in vowels: #this is looking for the 1st position of a vowel in a name up to 2 consonants\n",
    "        return name2\n",
    "    elif n1 not in vowels:\n",
    "        return name2[2:]\n",
    "    else:\n",
    "        return name2[1:]\n",
    "    \n",
    "# print(trunc_name(name))\n",
    "\n",
    "def name_game(ngen):\n",
    "    yield f'{ngen.capitalize()}, {ngen.capitalize()}, bo-b{trunc_name(name)}' #name name bo-\n",
    "    yield f'banana fana fo-f{trunc_name(name)}' \n",
    "    yield f'me my mo-m{trunc_name(name)}'\n",
    "    yield f'{ngen.capitalize()}!' #name\n",
    "\n",
    "\n",
    "for i in name_game(name):\n",
    "    print(i)\n",
    "\n",
    "#the bonus\n",
    "def name_game_b(b):\n",
    "    yield f'{b.capitalize()}, {b.capitalize()}, bo-{trunc_name(name)}'\n",
    "    yield f'banana fana fo-f{trunc_name(name)}'\n",
    "    yield f'me my mo-m{trunc_name(name)}'\n",
    "    yield f'{b.capitalize()}!'\n",
    "\n",
    "def name_game_f(f):\n",
    "    yield f'{f.capitalize()}, {f.capitalize()}, bo-{trunc_name(name)}'\n",
    "    yield f'banana fana fo-{trunc_name(name)}'\n",
    "    yield f'me my mo-m{trunc_name(name)}'\n",
    "    yield f'{f.capitalize()}!'\n",
    "\n",
    "def name_game_m(m):\n",
    "    yield f'{m.capitalize()}, {m.capitalize()}, bo-b{trunc_name(name)}'\n",
    "    yield f'banana fana fo-f{trunc_name(name)}'\n",
    "    yield f'me my mo-{trunc_name(name)}'\n",
    "    yield f'{m.capitalize()}!'"
   ]
  },
  {
   "cell_type": "code",
   "execution_count": 4,
   "id": "1c5c7538-bd30-4fea-9e0c-0d1baf02b463",
   "metadata": {},
   "outputs": [
    {
     "name": "stdin",
     "output_type": "stream",
     "text": [
      "Please provide your name:  Hannah\n"
     ]
    },
    {
     "name": "stdout",
     "output_type": "stream",
     "text": [
      "Hannah, Hannah, bo-bannah\n",
      "banana fana fo-fannah\n",
      "me my mo-mannah\n",
      "Hannah!\n"
     ]
    }
   ],
   "source": [
    "name = input('Please provide your name: ').lower() #to make output of name in lowercase\n",
    "\n",
    "def trunc_name(name2):\n",
    "    vowels = ['a', 'e', 'i', 'o', 'u', 'y']\n",
    "    n = name2[0] #index position of first letter\n",
    "    n1 = name2[1] #index position of 2nd letter\n",
    "    if n in vowels: #this is looking for the 1st position of a vowel in a name up to 2 consonants\n",
    "        return name2\n",
    "    elif n1 not in vowels:\n",
    "        return name2[2:]\n",
    "    else:\n",
    "        return name2[1:]\n",
    "    \n",
    "# print(trunc_name(name))\n",
    "\n",
    "def name_game(ngen):\n",
    "    yield f'{ngen.capitalize()}, {ngen.capitalize()}, bo-b{trunc_name(name)}' #name name bo-\n",
    "    yield f'banana fana fo-f{trunc_name(name)}' \n",
    "    yield f'me my mo-m{trunc_name(name)}'\n",
    "    yield f'{ngen.capitalize()}!' #name\n",
    "\n",
    "\n",
    "for i in name_game(name):\n",
    "    print(i)\n",
    "\n",
    "#the bonus\n",
    "def name_game_b(b):\n",
    "    yield f'{b.capitalize()}, {b.capitalize()}, bo-{trunc_name(name)}'\n",
    "    yield f'banana fana fo-f{trunc_name(name)}'\n",
    "    yield f'me my mo-m{trunc_name(name)}'\n",
    "    yield f'{b.capitalize()}!'\n",
    "\n",
    "def name_game_f(f):\n",
    "    yield f'{f.capitalize()}, {f.capitalize()}, bo-{trunc_name(name)}'\n",
    "    yield f'banana fana fo-{trunc_name(name)}'\n",
    "    yield f'me my mo-m{trunc_name(name)}'\n",
    "    yield f'{f.capitalize()}!'\n",
    "\n",
    "def name_game_m(m):\n",
    "    yield f'{m.capitalize()}, {m.capitalize()}, bo-b{trunc_name(name)}'\n",
    "    yield f'banana fana fo-f{trunc_name(name)}'\n",
    "    yield f'me my mo-{trunc_name(name)}'\n",
    "    yield f'{m.capitalize()}!'"
   ]
  },
  {
   "cell_type": "code",
   "execution_count": 5,
   "id": "6beaa20d-f0ed-449e-b6ba-04d06410a9c2",
   "metadata": {},
   "outputs": [
    {
     "name": "stdin",
     "output_type": "stream",
     "text": [
      "Please provide your name:  Hope\n"
     ]
    },
    {
     "name": "stdout",
     "output_type": "stream",
     "text": [
      "Hope, Hope, bo-bope\n",
      "banana fana fo-fope\n",
      "me my mo-mope\n",
      "Hope!\n"
     ]
    }
   ],
   "source": [
    "name = input('Please provide your name: ').lower() #to make output of name in lowercase\n",
    "\n",
    "def trunc_name(name2):\n",
    "    vowels = ['a', 'e', 'i', 'o', 'u', 'y']\n",
    "    n = name2[0] #index position of first letter\n",
    "    n1 = name2[1] #index position of 2nd letter\n",
    "    if n in vowels: #this is looking for the 1st position of a vowel in a name up to 2 consonants\n",
    "        return name2\n",
    "    elif n1 not in vowels:\n",
    "        return name2[2:]\n",
    "    else:\n",
    "        return name2[1:]\n",
    "    \n",
    "# print(trunc_name(name))\n",
    "\n",
    "def name_game(ngen):\n",
    "    yield f'{ngen.capitalize()}, {ngen.capitalize()}, bo-b{trunc_name(name)}' #name name bo-\n",
    "    yield f'banana fana fo-f{trunc_name(name)}' \n",
    "    yield f'me my mo-m{trunc_name(name)}'\n",
    "    yield f'{ngen.capitalize()}!' #name\n",
    "\n",
    "\n",
    "for i in name_game(name):\n",
    "    print(i)\n",
    "\n",
    "#the bonus\n",
    "def name_game_b(b):\n",
    "    yield f'{b.capitalize()}, {b.capitalize()}, bo-{trunc_name(name)}'\n",
    "    yield f'banana fana fo-f{trunc_name(name)}'\n",
    "    yield f'me my mo-m{trunc_name(name)}'\n",
    "    yield f'{b.capitalize()}!'\n",
    "\n",
    "def name_game_f(f):\n",
    "    yield f'{f.capitalize()}, {f.capitalize()}, bo-{trunc_name(name)}'\n",
    "    yield f'banana fana fo-{trunc_name(name)}'\n",
    "    yield f'me my mo-m{trunc_name(name)}'\n",
    "    yield f'{f.capitalize()}!'\n",
    "\n",
    "def name_game_m(m):\n",
    "    yield f'{m.capitalize()}, {m.capitalize()}, bo-b{trunc_name(name)}'\n",
    "    yield f'banana fana fo-f{trunc_name(name)}'\n",
    "    yield f'me my mo-{trunc_name(name)}'\n",
    "    yield f'{m.capitalize()}!'"
   ]
  },
  {
   "cell_type": "code",
   "execution_count": null,
   "id": "d7f0f614-d82d-490a-8c10-c4c72755181b",
   "metadata": {},
   "outputs": [],
   "source": []
  }
 ],
 "metadata": {
  "kernelspec": {
   "display_name": "Python 3 (ipykernel)",
   "language": "python",
   "name": "python3"
  },
  "language_info": {
   "codemirror_mode": {
    "name": "ipython",
    "version": 3
   },
   "file_extension": ".py",
   "mimetype": "text/x-python",
   "name": "python",
   "nbconvert_exporter": "python",
   "pygments_lexer": "ipython3",
   "version": "3.12.6"
  }
 },
 "nbformat": 4,
 "nbformat_minor": 5
}
